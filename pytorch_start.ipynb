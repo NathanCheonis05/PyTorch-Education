{
 "cells": [
  {
   "cell_type": "markdown",
   "metadata": {},
   "source": [
    "# PyTorch Education\n",
    "\n",
    "\n",
    "I will be taching myself how to use the `PyTorch` library in Python and how I can use this library instead of tensorflow. I think `PyTorch` would be better for me to practice Python rather than tensor flow because of how `torch` makes use of object oriented programming while creating models. I will be learning how to deal with tensors which are the backbone of `PyTorch`.\n",
    "\n",
    "# **:)**"
   ]
  },
  {
   "cell_type": "code",
   "execution_count": 1,
   "metadata": {},
   "outputs": [],
   "source": [
    "# importing libraries\n",
    "\n",
    "import torch\n",
    "import numpy as np"
   ]
  },
  {
   "cell_type": "code",
   "execution_count": 6,
   "metadata": {},
   "outputs": [
    {
     "name": "stdout",
     "output_type": "stream",
     "text": [
      "First Tensor: tensor([1, 2, 3])\n"
     ]
    }
   ],
   "source": [
    "# making tensors\n",
    "# tensors are arrays of numbers that are usually\n",
    "\n",
    "tensor_1 = torch.tensor([1,2,3])\n",
    "print(f\"First Tensor: {tensor_1}\")"
   ]
  },
  {
   "cell_type": "code",
   "execution_count": 7,
   "metadata": {},
   "outputs": [
    {
     "name": "stdout",
     "output_type": "stream",
     "text": [
      "Tensor with NumPy: tensor([1, 2, 3], dtype=torch.int32)\n"
     ]
    }
   ],
   "source": [
    "# you can use numpy arrays and make them into torch tnesors\n",
    "\n",
    "array_1 = np.array([1,2,3])\n",
    "tensor_2 = torch.tensor(array_1)\n",
    "print(f\"Tensor with NumPy: {tensor_2}\")"
   ]
  },
  {
   "cell_type": "code",
   "execution_count": 18,
   "metadata": {},
   "outputs": [
    {
     "name": "stdout",
     "output_type": "stream",
     "text": [
      "tensor([0., nan, 0.])\n",
      "tensor([[0., 0., 0.],\n",
      "        [0., 0., 0.]])\n",
      "tensor([[1., 1., 1.],\n",
      "        [1., 1., 1.]])\n"
     ]
    }
   ],
   "source": [
    "# Empty Tensors, Zero Tensors, and Ones Tensors\n",
    "\n",
    "empty_tensor = torch.empty(3)\n",
    "print(empty_tensor)\n",
    "\n",
    "zero_tensor = torch.zeros(2,3)\n",
    "print(zero_tensor)\n",
    "\n",
    "ones_tensor = torch.ones(2,3)\n",
    "print(ones_tensor)"
   ]
  },
  {
   "cell_type": "code",
   "execution_count": 28,
   "metadata": {},
   "outputs": [
    {
     "name": "stdout",
     "output_type": "stream",
     "text": [
      "tensor([[0.5099, 0.5462, 0.7304],\n",
      "        [0.4628, 0.6690, 0.6679],\n",
      "        [0.2311, 0.3115, 0.2178]])\n"
     ]
    }
   ],
   "source": [
    "# You can make random tensors\n",
    "\n",
    "rand_tensor = torch.rand(3,3)\n",
    "print(rand_tensor)"
   ]
  },
  {
   "cell_type": "code",
   "execution_count": null,
   "metadata": {},
   "outputs": [],
   "source": [
    "# Arrange Tensor\n",
    "\n"
   ]
  }
 ],
 "metadata": {
  "kernelspec": {
   "display_name": "Python 3",
   "language": "python",
   "name": "python3"
  },
  "language_info": {
   "codemirror_mode": {
    "name": "ipython",
    "version": 3
   },
   "file_extension": ".py",
   "mimetype": "text/x-python",
   "name": "python",
   "nbconvert_exporter": "python",
   "pygments_lexer": "ipython3",
   "version": "3.12.2"
  }
 },
 "nbformat": 4,
 "nbformat_minor": 2
}
