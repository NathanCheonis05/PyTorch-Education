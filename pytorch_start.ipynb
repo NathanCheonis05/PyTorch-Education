{
 "cells": [
  {
   "cell_type": "markdown",
   "metadata": {},
   "source": [
    "# PyTorch Education\n",
    "\n",
    "\n",
    "I will be taching myself how to use the `PyTorch` library in Python and how I can use this library instead of tensorflow. I think `PyTorch` would be better for me to practice Python rather than tensor flow because of how `torch` makes use of object oriented programming while creating models. I will be learning how to deal with tensors which are the backbone of `PyTorch`.\n",
    "\n",
    "# **:)**"
   ]
  }
 ],
 "metadata": {
  "language_info": {
   "name": "python"
  }
 },
 "nbformat": 4,
 "nbformat_minor": 2
}
